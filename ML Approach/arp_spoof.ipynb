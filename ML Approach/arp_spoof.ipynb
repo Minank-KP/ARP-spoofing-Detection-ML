{
  "nbformat": 4,
  "nbformat_minor": 0,
  "metadata": {
    "colab": {
      "provenance": []
    },
    "kernelspec": {
      "name": "python3",
      "display_name": "Python 3"
    },
    "language_info": {
      "name": "python"
    }
  },
  "cells": [
    {
      "cell_type": "code",
      "execution_count": null,
      "metadata": {
        "id": "8P_H6rPFWc52"
      },
      "outputs": [],
      "source": []
    },
    {
      "cell_type": "code",
      "execution_count": 152,
      "metadata": {
        "id": "zZrB8ERt4A8s"
      },
      "outputs": [],
      "source": [
        "import io\n",
        "import numpy as np\n",
        "import pandas as pd\n",
        "import tensorflow as tf\n",
        "from sklearn.preprocessing import LabelEncoder, MinMaxScaler\n",
        "from sklearn.model_selection import train_test_split\n",
        "from sklearn.utils import class_weight\n",
        "from sklearn.metrics import accuracy_score, precision_score, f1_score, confusion_matrix\n",
        "import matplotlib.pyplot as plt\n",
        "import seaborn as sns"
      ]
    },
    {
      "cell_type": "code",
      "source": [],
      "metadata": {
        "id": "0ig4q3GzadFg"
      },
      "execution_count": 152,
      "outputs": []
    },
    {
      "cell_type": "code",
      "source": [
        "capture_file = pd.read_csv(\"/content/arpcode (13).csv\")\n",
        "X = capture_file[['Time', 'Source', 'Destination', 'Protocol']]\n",
        "Y = capture_file['Info']"
      ],
      "metadata": {
        "id": "9tuH-ewT4UV6"
      },
      "execution_count": 153,
      "outputs": []
    },
    {
      "cell_type": "code",
      "source": [
        "X.shape"
      ],
      "metadata": {
        "colab": {
          "base_uri": "https://localhost:8080/"
        },
        "id": "rc_maIuoad5z",
        "outputId": "ffae530b-1c78-400d-9310-abb2a1cff99d"
      },
      "execution_count": 154,
      "outputs": [
        {
          "output_type": "execute_result",
          "data": {
            "text/plain": [
              "(3160, 4)"
            ]
          },
          "metadata": {},
          "execution_count": 154
        }
      ]
    },
    {
      "cell_type": "code",
      "source": [
        "X_Time_en = MinMaxScaler()\n",
        "X_Source_en = LabelEncoder()\n",
        "X_Destination_en = LabelEncoder()\n",
        "X_Protocol_en = LabelEncoder()\n",
        "\n",
        "X['dt_Time'] = X_Time_en.fit_transform(X[['Time']])\n",
        "X['dt_Source'] = X_Source_en.fit_transform(X['Source'])\n",
        "X['dt_Destination'] = X_Destination_en.fit_transform(X['Destination'])\n",
        "X['dt_Protocol'] = X_Protocol_en.fit_transform(X['Protocol'])"
      ],
      "metadata": {
        "id": "EZwPXKLB4Yt9",
        "colab": {
          "base_uri": "https://localhost:8080/"
        },
        "outputId": "58c77e1b-355f-4eb8-fae6-356c1301726a"
      },
      "execution_count": 155,
      "outputs": [
        {
          "output_type": "stream",
          "name": "stderr",
          "text": [
            "<ipython-input-155-2e711e491a2d>:6: SettingWithCopyWarning: \n",
            "A value is trying to be set on a copy of a slice from a DataFrame.\n",
            "Try using .loc[row_indexer,col_indexer] = value instead\n",
            "\n",
            "See the caveats in the documentation: https://pandas.pydata.org/pandas-docs/stable/user_guide/indexing.html#returning-a-view-versus-a-copy\n",
            "  X['dt_Time'] = X_Time_en.fit_transform(X[['Time']])\n"
          ]
        }
      ]
    },
    {
      "cell_type": "code",
      "source": [
        "X_input = X.drop(['Source', 'Destination', 'Protocol', 'Time'], axis=1)\n"
      ],
      "metadata": {
        "id": "PsyFeUr54mnH"
      },
      "execution_count": 156,
      "outputs": []
    },
    {
      "cell_type": "code",
      "source": [
        "\n",
        "mean = X_input.mean(axis=0)\n",
        "std = X_input.std(axis=0)\n",
        "X_input = (X_input - mean) / std"
      ],
      "metadata": {
        "id": "TusqLpj74wu_"
      },
      "execution_count": 157,
      "outputs": []
    },
    {
      "cell_type": "code",
      "source": [
        "X_input = X_input.values"
      ],
      "metadata": {
        "id": "LQp5X4fl41_E"
      },
      "execution_count": 158,
      "outputs": []
    },
    {
      "cell_type": "code",
      "source": [
        "def create_sequences(X, y, window_size):\n",
        "    X_seq, y_seq = [], []\n",
        "    for i in range(len(X) - window_size):\n",
        "        X_seq.append(X[i:i + window_size])\n",
        "        y_seq.append(y[i + window_size - 1])  # Label for the last packet in the window\n",
        "    return np.array(X_seq), np.array(y_seq)"
      ],
      "metadata": {
        "id": "wfBEwpOA44KW"
      },
      "execution_count": 159,
      "outputs": []
    },
    {
      "cell_type": "code",
      "source": [
        "window_size = 5\n",
        "X_sequences, y_sequences = create_sequences(X_input, Y.values, window_size)"
      ],
      "metadata": {
        "id": "SapPUKWC46MW"
      },
      "execution_count": 160,
      "outputs": []
    },
    {
      "cell_type": "code",
      "source": [
        "X_train, X_test, y_train, y_test = train_test_split(X_sequences, y_sequences, test_size=0.2, random_state=42)\n",
        "X_train, X_val, y_train, y_val = train_test_split(X_train, y_train, test_size = 0.25, random_state = 42)"
      ],
      "metadata": {
        "id": "fCBD86t348iT"
      },
      "execution_count": 161,
      "outputs": []
    },
    {
      "cell_type": "code",
      "source": [
        "X_train.shape, X_test.shape, X_val.shape, y_train.shape, y_test.shape, y_val.shape"
      ],
      "metadata": {
        "colab": {
          "base_uri": "https://localhost:8080/"
        },
        "id": "6DCdQrnpyLYl",
        "outputId": "3b21db43-eccd-4205-bc97-fcd168251ec1"
      },
      "execution_count": 162,
      "outputs": [
        {
          "output_type": "execute_result",
          "data": {
            "text/plain": [
              "((1893, 5, 4), (631, 5, 4), (631, 5, 4), (1893,), (631,), (631,))"
            ]
          },
          "metadata": {},
          "execution_count": 162
        }
      ]
    },
    {
      "cell_type": "code",
      "source": [
        "class_weights = class_weight.compute_class_weight('balanced', classes=np.unique(y_train), y=y_train)\n",
        "class_weight_dict = dict(enumerate(class_weights))"
      ],
      "metadata": {
        "id": "v7ppAoOH4-Zz"
      },
      "execution_count": 163,
      "outputs": []
    },
    {
      "cell_type": "code",
      "source": [
        "X_train.shape[1]"
      ],
      "metadata": {
        "colab": {
          "base_uri": "https://localhost:8080/"
        },
        "id": "mlSWMMJDcf6B",
        "outputId": "fb1466cb-26b6-46de-a000-a141cf30c875"
      },
      "execution_count": 164,
      "outputs": [
        {
          "output_type": "execute_result",
          "data": {
            "text/plain": [
              "5"
            ]
          },
          "metadata": {},
          "execution_count": 164
        }
      ]
    },
    {
      "cell_type": "code",
      "source": [
        "model = tf.keras.Sequential([\n",
        "    tf.keras.layers.LSTM(100, return_sequences=True, input_shape=(X_train.shape[1], X_train.shape[2])),\n",
        "    tf.keras.layers.LSTM(50),\n",
        "    tf.keras.layers.Dropout(0.2),\n",
        "    tf.keras.layers.Dense(1, activation='sigmoid')\n",
        "])"
      ],
      "metadata": {
        "id": "Ek6-8E_n6UX0"
      },
      "execution_count": 165,
      "outputs": []
    },
    {
      "cell_type": "code",
      "source": [
        "model.compile(optimizer='adam', loss='binary_crossentropy', metrics=['accuracy'])\n"
      ],
      "metadata": {
        "id": "9sHyPLrs5BH4"
      },
      "execution_count": 166,
      "outputs": []
    },
    {
      "cell_type": "code",
      "source": [
        "# Train the model\n",
        "history = model.fit(X_train, y_train,\n",
        "                    epochs=500,\n",
        "                    batch_size=32,\n",
        "                    validation_data=(X_val, y_val),\n",
        "                    callbacks=[tf.keras.callbacks.EarlyStopping(monitor='val_loss', patience=10)],\n",
        "                    class_weight=class_weight_dict,\n",
        "                    shuffle = False)"
      ],
      "metadata": {
        "id": "bpcuYjT05Enc",
        "colab": {
          "base_uri": "https://localhost:8080/"
        },
        "outputId": "b217f99d-faa9-4fd6-e05b-2b2100bbe521"
      },
      "execution_count": 167,
      "outputs": [
        {
          "output_type": "stream",
          "name": "stdout",
          "text": [
            "Epoch 1/500\n",
            "60/60 [==============================] - 6s 28ms/step - loss: 0.6352 - accuracy: 0.5203 - val_loss: 0.6004 - val_accuracy: 0.6022\n",
            "Epoch 2/500\n",
            "60/60 [==============================] - 1s 12ms/step - loss: 0.5136 - accuracy: 0.7068 - val_loss: 0.5363 - val_accuracy: 0.7734\n",
            "Epoch 3/500\n",
            "60/60 [==============================] - 1s 12ms/step - loss: 0.4055 - accuracy: 0.8516 - val_loss: 0.4101 - val_accuracy: 0.8843\n",
            "Epoch 4/500\n",
            "60/60 [==============================] - 1s 12ms/step - loss: 0.3013 - accuracy: 0.8833 - val_loss: 0.3495 - val_accuracy: 0.8653\n",
            "Epoch 5/500\n",
            "60/60 [==============================] - 1s 12ms/step - loss: 0.2732 - accuracy: 0.8759 - val_loss: 0.3538 - val_accuracy: 0.8637\n",
            "Epoch 6/500\n",
            "60/60 [==============================] - 1s 11ms/step - loss: 0.2635 - accuracy: 0.8774 - val_loss: 0.3532 - val_accuracy: 0.8653\n",
            "Epoch 7/500\n",
            "60/60 [==============================] - 1s 12ms/step - loss: 0.2553 - accuracy: 0.8806 - val_loss: 0.3333 - val_accuracy: 0.8716\n",
            "Epoch 8/500\n",
            "60/60 [==============================] - 1s 15ms/step - loss: 0.2550 - accuracy: 0.8817 - val_loss: 0.3245 - val_accuracy: 0.8780\n",
            "Epoch 9/500\n",
            "60/60 [==============================] - 1s 19ms/step - loss: 0.2497 - accuracy: 0.8833 - val_loss: 0.3164 - val_accuracy: 0.8811\n",
            "Epoch 10/500\n",
            "60/60 [==============================] - 1s 18ms/step - loss: 0.2466 - accuracy: 0.8817 - val_loss: 0.3051 - val_accuracy: 0.8875\n",
            "Epoch 11/500\n",
            "60/60 [==============================] - 1s 17ms/step - loss: 0.2492 - accuracy: 0.8843 - val_loss: 0.3270 - val_accuracy: 0.8843\n",
            "Epoch 12/500\n",
            "60/60 [==============================] - 1s 12ms/step - loss: 0.2451 - accuracy: 0.8843 - val_loss: 0.2901 - val_accuracy: 0.8891\n",
            "Epoch 13/500\n",
            "60/60 [==============================] - 1s 12ms/step - loss: 0.2374 - accuracy: 0.8859 - val_loss: 0.3118 - val_accuracy: 0.8875\n",
            "Epoch 14/500\n",
            "60/60 [==============================] - 1s 12ms/step - loss: 0.2416 - accuracy: 0.8833 - val_loss: 0.3020 - val_accuracy: 0.8891\n",
            "Epoch 15/500\n",
            "60/60 [==============================] - 1s 13ms/step - loss: 0.2347 - accuracy: 0.8843 - val_loss: 0.2751 - val_accuracy: 0.8891\n",
            "Epoch 16/500\n",
            "60/60 [==============================] - 1s 12ms/step - loss: 0.2366 - accuracy: 0.8891 - val_loss: 0.3114 - val_accuracy: 0.8875\n",
            "Epoch 17/500\n",
            "60/60 [==============================] - 1s 12ms/step - loss: 0.2389 - accuracy: 0.8811 - val_loss: 0.2815 - val_accuracy: 0.8891\n",
            "Epoch 18/500\n",
            "60/60 [==============================] - 1s 11ms/step - loss: 0.2302 - accuracy: 0.8870 - val_loss: 0.2606 - val_accuracy: 0.8891\n",
            "Epoch 19/500\n",
            "60/60 [==============================] - 1s 12ms/step - loss: 0.2282 - accuracy: 0.8891 - val_loss: 0.2865 - val_accuracy: 0.8906\n",
            "Epoch 20/500\n",
            "60/60 [==============================] - 1s 12ms/step - loss: 0.2255 - accuracy: 0.8843 - val_loss: 0.2502 - val_accuracy: 0.8954\n",
            "Epoch 21/500\n",
            "60/60 [==============================] - 1s 13ms/step - loss: 0.2225 - accuracy: 0.8906 - val_loss: 0.2886 - val_accuracy: 0.8906\n",
            "Epoch 22/500\n",
            "60/60 [==============================] - 1s 11ms/step - loss: 0.2232 - accuracy: 0.8843 - val_loss: 0.2705 - val_accuracy: 0.8922\n",
            "Epoch 23/500\n",
            "60/60 [==============================] - 1s 11ms/step - loss: 0.2186 - accuracy: 0.8896 - val_loss: 0.2591 - val_accuracy: 0.8954\n",
            "Epoch 24/500\n",
            "60/60 [==============================] - 1s 13ms/step - loss: 0.2161 - accuracy: 0.8912 - val_loss: 0.2958 - val_accuracy: 0.8891\n",
            "Epoch 25/500\n",
            "60/60 [==============================] - 1s 16ms/step - loss: 0.1996 - accuracy: 0.8996 - val_loss: 0.2537 - val_accuracy: 0.9002\n",
            "Epoch 26/500\n",
            "60/60 [==============================] - 1s 18ms/step - loss: 0.1972 - accuracy: 0.8980 - val_loss: 0.2517 - val_accuracy: 0.9081\n",
            "Epoch 27/500\n",
            "60/60 [==============================] - 1s 20ms/step - loss: 0.1930 - accuracy: 0.9023 - val_loss: 0.2288 - val_accuracy: 0.9081\n",
            "Epoch 28/500\n",
            "60/60 [==============================] - 1s 14ms/step - loss: 0.1877 - accuracy: 0.9023 - val_loss: 0.2360 - val_accuracy: 0.9081\n",
            "Epoch 29/500\n",
            "60/60 [==============================] - 1s 12ms/step - loss: 0.1811 - accuracy: 0.9091 - val_loss: 0.2138 - val_accuracy: 0.9160\n",
            "Epoch 30/500\n",
            "60/60 [==============================] - 1s 11ms/step - loss: 0.1742 - accuracy: 0.9086 - val_loss: 0.1993 - val_accuracy: 0.9128\n",
            "Epoch 31/500\n",
            "60/60 [==============================] - 1s 17ms/step - loss: 0.1668 - accuracy: 0.9165 - val_loss: 0.2247 - val_accuracy: 0.9192\n",
            "Epoch 32/500\n",
            "60/60 [==============================] - 1s 12ms/step - loss: 0.1672 - accuracy: 0.9139 - val_loss: 0.1872 - val_accuracy: 0.9255\n",
            "Epoch 33/500\n",
            "60/60 [==============================] - 1s 12ms/step - loss: 0.1519 - accuracy: 0.9186 - val_loss: 0.1758 - val_accuracy: 0.9303\n",
            "Epoch 34/500\n",
            "60/60 [==============================] - 1s 13ms/step - loss: 0.1506 - accuracy: 0.9223 - val_loss: 0.1820 - val_accuracy: 0.9255\n",
            "Epoch 35/500\n",
            "60/60 [==============================] - 1s 12ms/step - loss: 0.1527 - accuracy: 0.9234 - val_loss: 0.1689 - val_accuracy: 0.9334\n",
            "Epoch 36/500\n",
            "60/60 [==============================] - 1s 12ms/step - loss: 0.1387 - accuracy: 0.9260 - val_loss: 0.1667 - val_accuracy: 0.9334\n",
            "Epoch 37/500\n",
            "60/60 [==============================] - 1s 12ms/step - loss: 0.1411 - accuracy: 0.9250 - val_loss: 0.1474 - val_accuracy: 0.9382\n",
            "Epoch 38/500\n",
            "60/60 [==============================] - 1s 11ms/step - loss: 0.1367 - accuracy: 0.9271 - val_loss: 0.1571 - val_accuracy: 0.9366\n",
            "Epoch 39/500\n",
            "60/60 [==============================] - 1s 14ms/step - loss: 0.1406 - accuracy: 0.9229 - val_loss: 0.1569 - val_accuracy: 0.9366\n",
            "Epoch 40/500\n",
            "60/60 [==============================] - 1s 12ms/step - loss: 0.1296 - accuracy: 0.9297 - val_loss: 0.1511 - val_accuracy: 0.9366\n",
            "Epoch 41/500\n",
            "60/60 [==============================] - 1s 16ms/step - loss: 0.1240 - accuracy: 0.9282 - val_loss: 0.1417 - val_accuracy: 0.9382\n",
            "Epoch 42/500\n",
            "60/60 [==============================] - 1s 19ms/step - loss: 0.1280 - accuracy: 0.9266 - val_loss: 0.1527 - val_accuracy: 0.9398\n",
            "Epoch 43/500\n",
            "60/60 [==============================] - 1s 21ms/step - loss: 0.1261 - accuracy: 0.9292 - val_loss: 0.1716 - val_accuracy: 0.9255\n",
            "Epoch 44/500\n",
            "60/60 [==============================] - 1s 13ms/step - loss: 0.1292 - accuracy: 0.9303 - val_loss: 0.1446 - val_accuracy: 0.9366\n",
            "Epoch 45/500\n",
            "60/60 [==============================] - 1s 12ms/step - loss: 0.1169 - accuracy: 0.9324 - val_loss: 0.1281 - val_accuracy: 0.9414\n",
            "Epoch 46/500\n",
            "60/60 [==============================] - 1s 12ms/step - loss: 0.1112 - accuracy: 0.9334 - val_loss: 0.1576 - val_accuracy: 0.9303\n",
            "Epoch 47/500\n",
            "60/60 [==============================] - 1s 11ms/step - loss: 0.1153 - accuracy: 0.9345 - val_loss: 0.1248 - val_accuracy: 0.9429\n",
            "Epoch 48/500\n",
            "60/60 [==============================] - 1s 12ms/step - loss: 0.0975 - accuracy: 0.9387 - val_loss: 0.1169 - val_accuracy: 0.9429\n",
            "Epoch 49/500\n",
            "60/60 [==============================] - 1s 12ms/step - loss: 0.0995 - accuracy: 0.9387 - val_loss: 0.1158 - val_accuracy: 0.9445\n",
            "Epoch 50/500\n",
            "60/60 [==============================] - 1s 13ms/step - loss: 0.0950 - accuracy: 0.9403 - val_loss: 0.1167 - val_accuracy: 0.9429\n",
            "Epoch 51/500\n",
            "60/60 [==============================] - 1s 12ms/step - loss: 0.0912 - accuracy: 0.9445 - val_loss: 0.1000 - val_accuracy: 0.9445\n",
            "Epoch 52/500\n",
            "60/60 [==============================] - 1s 12ms/step - loss: 0.1069 - accuracy: 0.9382 - val_loss: 0.1412 - val_accuracy: 0.9414\n",
            "Epoch 53/500\n",
            "60/60 [==============================] - 1s 12ms/step - loss: 0.0838 - accuracy: 0.9493 - val_loss: 0.0965 - val_accuracy: 0.9445\n",
            "Epoch 54/500\n",
            "60/60 [==============================] - 1s 12ms/step - loss: 0.0747 - accuracy: 0.9519 - val_loss: 0.0922 - val_accuracy: 0.9445\n",
            "Epoch 55/500\n",
            "60/60 [==============================] - 1s 12ms/step - loss: 0.0735 - accuracy: 0.9551 - val_loss: 0.0774 - val_accuracy: 0.9683\n",
            "Epoch 56/500\n",
            "60/60 [==============================] - 1s 13ms/step - loss: 0.0963 - accuracy: 0.9567 - val_loss: 0.2727 - val_accuracy: 0.9049\n",
            "Epoch 57/500\n",
            "60/60 [==============================] - 1s 13ms/step - loss: 0.1250 - accuracy: 0.9366 - val_loss: 0.1308 - val_accuracy: 0.9429\n",
            "Epoch 58/500\n",
            "60/60 [==============================] - 1s 20ms/step - loss: 0.0921 - accuracy: 0.9482 - val_loss: 0.0912 - val_accuracy: 0.9366\n",
            "Epoch 59/500\n",
            "60/60 [==============================] - 1s 19ms/step - loss: 0.0640 - accuracy: 0.9678 - val_loss: 0.0597 - val_accuracy: 0.9762\n",
            "Epoch 60/500\n",
            "60/60 [==============================] - 1s 19ms/step - loss: 0.0580 - accuracy: 0.9757 - val_loss: 0.0556 - val_accuracy: 0.9857\n",
            "Epoch 61/500\n",
            "60/60 [==============================] - 1s 13ms/step - loss: 0.0518 - accuracy: 0.9736 - val_loss: 0.0445 - val_accuracy: 0.9905\n",
            "Epoch 62/500\n",
            "60/60 [==============================] - 1s 12ms/step - loss: 0.0504 - accuracy: 0.9820 - val_loss: 0.0401 - val_accuracy: 0.9937\n",
            "Epoch 63/500\n",
            "60/60 [==============================] - 1s 12ms/step - loss: 0.0432 - accuracy: 0.9799 - val_loss: 0.0333 - val_accuracy: 0.9937\n",
            "Epoch 64/500\n",
            "60/60 [==============================] - 1s 12ms/step - loss: 0.0416 - accuracy: 0.9836 - val_loss: 0.0442 - val_accuracy: 0.9952\n",
            "Epoch 65/500\n",
            "60/60 [==============================] - 1s 12ms/step - loss: 0.0458 - accuracy: 0.9820 - val_loss: 0.0404 - val_accuracy: 0.9905\n",
            "Epoch 66/500\n",
            "60/60 [==============================] - 1s 11ms/step - loss: 0.0381 - accuracy: 0.9868 - val_loss: 0.0369 - val_accuracy: 0.9937\n",
            "Epoch 67/500\n",
            "60/60 [==============================] - 1s 12ms/step - loss: 0.0325 - accuracy: 0.9878 - val_loss: 0.0297 - val_accuracy: 0.9937\n",
            "Epoch 68/500\n",
            "60/60 [==============================] - 1s 12ms/step - loss: 0.0342 - accuracy: 0.9878 - val_loss: 0.0445 - val_accuracy: 0.9937\n",
            "Epoch 69/500\n",
            "60/60 [==============================] - 1s 12ms/step - loss: 0.0460 - accuracy: 0.9831 - val_loss: 0.0350 - val_accuracy: 0.9937\n",
            "Epoch 70/500\n",
            "60/60 [==============================] - 1s 13ms/step - loss: 0.0339 - accuracy: 0.9831 - val_loss: 0.0409 - val_accuracy: 0.9921\n",
            "Epoch 71/500\n",
            "60/60 [==============================] - 1s 12ms/step - loss: 0.0325 - accuracy: 0.9884 - val_loss: 0.0250 - val_accuracy: 0.9952\n",
            "Epoch 72/500\n",
            "60/60 [==============================] - 1s 12ms/step - loss: 0.0281 - accuracy: 0.9900 - val_loss: 0.0419 - val_accuracy: 0.9952\n",
            "Epoch 73/500\n",
            "60/60 [==============================] - 1s 12ms/step - loss: 0.0303 - accuracy: 0.9889 - val_loss: 0.0320 - val_accuracy: 0.9921\n",
            "Epoch 74/500\n",
            "60/60 [==============================] - 1s 11ms/step - loss: 0.0257 - accuracy: 0.9905 - val_loss: 0.0296 - val_accuracy: 0.9952\n",
            "Epoch 75/500\n",
            "60/60 [==============================] - 1s 17ms/step - loss: 0.0327 - accuracy: 0.9889 - val_loss: 0.0247 - val_accuracy: 0.9952\n",
            "Epoch 76/500\n",
            "60/60 [==============================] - 1s 19ms/step - loss: 0.0254 - accuracy: 0.9905 - val_loss: 0.0398 - val_accuracy: 0.9952\n",
            "Epoch 77/500\n",
            "60/60 [==============================] - 1s 20ms/step - loss: 0.0221 - accuracy: 0.9900 - val_loss: 0.0259 - val_accuracy: 0.9968\n",
            "Epoch 78/500\n",
            "60/60 [==============================] - 1s 15ms/step - loss: 0.0223 - accuracy: 0.9894 - val_loss: 0.0348 - val_accuracy: 0.9952\n",
            "Epoch 79/500\n",
            "60/60 [==============================] - 1s 12ms/step - loss: 0.1236 - accuracy: 0.9562 - val_loss: 0.3513 - val_accuracy: 0.9192\n",
            "Epoch 80/500\n",
            "60/60 [==============================] - 1s 13ms/step - loss: 0.0757 - accuracy: 0.9651 - val_loss: 0.0423 - val_accuracy: 0.9921\n",
            "Epoch 81/500\n",
            "60/60 [==============================] - 1s 20ms/step - loss: 0.0327 - accuracy: 0.9863 - val_loss: 0.0332 - val_accuracy: 0.9937\n",
            "Epoch 82/500\n",
            "60/60 [==============================] - 1s 12ms/step - loss: 0.0251 - accuracy: 0.9884 - val_loss: 0.0300 - val_accuracy: 0.9952\n",
            "Epoch 83/500\n",
            "60/60 [==============================] - 1s 12ms/step - loss: 0.0253 - accuracy: 0.9889 - val_loss: 0.0295 - val_accuracy: 0.9952\n",
            "Epoch 84/500\n",
            "60/60 [==============================] - 1s 11ms/step - loss: 0.0225 - accuracy: 0.9900 - val_loss: 0.0286 - val_accuracy: 0.9952\n",
            "Epoch 85/500\n",
            "60/60 [==============================] - 1s 12ms/step - loss: 0.0205 - accuracy: 0.9894 - val_loss: 0.0241 - val_accuracy: 0.9952\n",
            "Epoch 86/500\n",
            "60/60 [==============================] - 1s 12ms/step - loss: 0.0197 - accuracy: 0.9910 - val_loss: 0.0244 - val_accuracy: 0.9952\n",
            "Epoch 87/500\n",
            "60/60 [==============================] - 1s 13ms/step - loss: 0.0223 - accuracy: 0.9905 - val_loss: 0.0207 - val_accuracy: 0.9968\n",
            "Epoch 88/500\n",
            "60/60 [==============================] - 1s 12ms/step - loss: 0.0187 - accuracy: 0.9905 - val_loss: 0.0233 - val_accuracy: 0.9968\n",
            "Epoch 89/500\n",
            "60/60 [==============================] - 1s 12ms/step - loss: 0.0160 - accuracy: 0.9921 - val_loss: 0.0283 - val_accuracy: 0.9952\n",
            "Epoch 90/500\n",
            "60/60 [==============================] - 1s 13ms/step - loss: 0.0160 - accuracy: 0.9926 - val_loss: 0.0275 - val_accuracy: 0.9952\n",
            "Epoch 91/500\n",
            "60/60 [==============================] - 1s 16ms/step - loss: 0.0144 - accuracy: 0.9931 - val_loss: 0.0176 - val_accuracy: 0.9968\n",
            "Epoch 92/500\n",
            "60/60 [==============================] - 1s 19ms/step - loss: 0.0139 - accuracy: 0.9931 - val_loss: 0.0204 - val_accuracy: 0.9968\n",
            "Epoch 93/500\n",
            "60/60 [==============================] - 1s 19ms/step - loss: 0.0170 - accuracy: 0.9926 - val_loss: 0.0485 - val_accuracy: 0.9921\n",
            "Epoch 94/500\n",
            "60/60 [==============================] - 1s 15ms/step - loss: 0.0314 - accuracy: 0.9878 - val_loss: 0.0283 - val_accuracy: 0.9921\n",
            "Epoch 95/500\n",
            "60/60 [==============================] - 1s 12ms/step - loss: 0.0153 - accuracy: 0.9915 - val_loss: 0.0183 - val_accuracy: 0.9968\n",
            "Epoch 96/500\n",
            "60/60 [==============================] - 1s 12ms/step - loss: 0.0158 - accuracy: 0.9937 - val_loss: 0.0234 - val_accuracy: 0.9968\n",
            "Epoch 97/500\n",
            "60/60 [==============================] - 1s 12ms/step - loss: 0.0177 - accuracy: 0.9921 - val_loss: 0.0304 - val_accuracy: 0.9937\n",
            "Epoch 98/500\n",
            "60/60 [==============================] - 1s 12ms/step - loss: 0.0288 - accuracy: 0.9868 - val_loss: 0.0290 - val_accuracy: 0.9937\n",
            "Epoch 99/500\n",
            "60/60 [==============================] - 1s 12ms/step - loss: 0.0222 - accuracy: 0.9900 - val_loss: 0.0191 - val_accuracy: 0.9952\n",
            "Epoch 100/500\n",
            "60/60 [==============================] - 1s 12ms/step - loss: 0.0147 - accuracy: 0.9937 - val_loss: 0.0165 - val_accuracy: 0.9968\n",
            "Epoch 101/500\n",
            "60/60 [==============================] - 1s 12ms/step - loss: 0.0109 - accuracy: 0.9952 - val_loss: 0.0175 - val_accuracy: 0.9968\n",
            "Epoch 102/500\n",
            "60/60 [==============================] - 1s 12ms/step - loss: 0.0119 - accuracy: 0.9947 - val_loss: 0.0162 - val_accuracy: 0.9968\n",
            "Epoch 103/500\n",
            "60/60 [==============================] - 1s 12ms/step - loss: 0.0118 - accuracy: 0.9958 - val_loss: 0.0199 - val_accuracy: 0.9952\n",
            "Epoch 104/500\n",
            "60/60 [==============================] - 1s 12ms/step - loss: 0.0128 - accuracy: 0.9952 - val_loss: 0.0197 - val_accuracy: 0.9952\n",
            "Epoch 105/500\n",
            "60/60 [==============================] - 1s 12ms/step - loss: 0.0101 - accuracy: 0.9958 - val_loss: 0.0179 - val_accuracy: 0.9952\n",
            "Epoch 106/500\n",
            "60/60 [==============================] - 1s 12ms/step - loss: 0.0077 - accuracy: 0.9963 - val_loss: 0.0146 - val_accuracy: 0.9952\n",
            "Epoch 107/500\n",
            "60/60 [==============================] - 1s 12ms/step - loss: 0.0081 - accuracy: 0.9968 - val_loss: 0.0207 - val_accuracy: 0.9952\n",
            "Epoch 108/500\n",
            "60/60 [==============================] - 1s 17ms/step - loss: 0.0105 - accuracy: 0.9963 - val_loss: 0.0211 - val_accuracy: 0.9952\n",
            "Epoch 109/500\n",
            "60/60 [==============================] - 1s 19ms/step - loss: 0.0131 - accuracy: 0.9963 - val_loss: 0.0161 - val_accuracy: 0.9968\n",
            "Epoch 110/500\n",
            "60/60 [==============================] - 1s 20ms/step - loss: 0.0102 - accuracy: 0.9963 - val_loss: 0.0189 - val_accuracy: 0.9968\n",
            "Epoch 111/500\n",
            "60/60 [==============================] - 1s 14ms/step - loss: 0.0074 - accuracy: 0.9968 - val_loss: 0.0172 - val_accuracy: 0.9968\n",
            "Epoch 112/500\n",
            "60/60 [==============================] - 1s 12ms/step - loss: 0.0076 - accuracy: 0.9979 - val_loss: 0.0174 - val_accuracy: 0.9968\n",
            "Epoch 113/500\n",
            "60/60 [==============================] - 1s 12ms/step - loss: 0.0076 - accuracy: 0.9974 - val_loss: 0.0187 - val_accuracy: 0.9952\n",
            "Epoch 114/500\n",
            "60/60 [==============================] - 1s 12ms/step - loss: 0.0095 - accuracy: 0.9974 - val_loss: 0.0343 - val_accuracy: 0.9921\n",
            "Epoch 115/500\n",
            "60/60 [==============================] - 1s 12ms/step - loss: 0.0145 - accuracy: 0.9931 - val_loss: 0.0139 - val_accuracy: 0.9952\n",
            "Epoch 116/500\n",
            "60/60 [==============================] - 1s 11ms/step - loss: 0.1924 - accuracy: 0.9482 - val_loss: 0.2423 - val_accuracy: 0.9445\n",
            "Epoch 117/500\n",
            "60/60 [==============================] - 1s 14ms/step - loss: 0.0697 - accuracy: 0.9720 - val_loss: 0.1315 - val_accuracy: 0.9699\n",
            "Epoch 118/500\n",
            "60/60 [==============================] - 1s 12ms/step - loss: 0.0357 - accuracy: 0.9847 - val_loss: 0.0580 - val_accuracy: 0.9778\n",
            "Epoch 119/500\n",
            "60/60 [==============================] - 1s 12ms/step - loss: 0.0169 - accuracy: 0.9937 - val_loss: 0.0188 - val_accuracy: 0.9968\n",
            "Epoch 120/500\n",
            "60/60 [==============================] - 1s 11ms/step - loss: 0.0124 - accuracy: 0.9958 - val_loss: 0.0143 - val_accuracy: 0.9968\n",
            "Epoch 121/500\n",
            "60/60 [==============================] - 1s 12ms/step - loss: 0.0107 - accuracy: 0.9958 - val_loss: 0.0199 - val_accuracy: 0.9968\n",
            "Epoch 122/500\n",
            "60/60 [==============================] - 1s 12ms/step - loss: 0.0104 - accuracy: 0.9952 - val_loss: 0.0156 - val_accuracy: 0.9968\n",
            "Epoch 123/500\n",
            "60/60 [==============================] - 1s 11ms/step - loss: 0.0080 - accuracy: 0.9974 - val_loss: 0.0137 - val_accuracy: 0.9968\n",
            "Epoch 124/500\n",
            "60/60 [==============================] - 1s 13ms/step - loss: 0.0082 - accuracy: 0.9984 - val_loss: 0.0136 - val_accuracy: 0.9968\n",
            "Epoch 125/500\n",
            "60/60 [==============================] - 1s 18ms/step - loss: 0.0072 - accuracy: 0.9974 - val_loss: 0.0133 - val_accuracy: 0.9968\n",
            "Epoch 126/500\n",
            "60/60 [==============================] - 1s 19ms/step - loss: 0.0059 - accuracy: 0.9984 - val_loss: 0.0146 - val_accuracy: 0.9968\n",
            "Epoch 127/500\n",
            "60/60 [==============================] - 1s 18ms/step - loss: 0.0057 - accuracy: 0.9979 - val_loss: 0.0158 - val_accuracy: 0.9968\n",
            "Epoch 128/500\n",
            "60/60 [==============================] - 1s 15ms/step - loss: 0.0067 - accuracy: 0.9984 - val_loss: 0.0133 - val_accuracy: 0.9968\n",
            "Epoch 129/500\n",
            "60/60 [==============================] - 1s 14ms/step - loss: 0.0061 - accuracy: 0.9968 - val_loss: 0.0142 - val_accuracy: 0.9968\n",
            "Epoch 130/500\n",
            "60/60 [==============================] - 1s 13ms/step - loss: 0.0052 - accuracy: 0.9989 - val_loss: 0.0136 - val_accuracy: 0.9968\n",
            "Epoch 131/500\n",
            "60/60 [==============================] - 1s 12ms/step - loss: 0.0053 - accuracy: 0.9984 - val_loss: 0.0137 - val_accuracy: 0.9968\n",
            "Epoch 132/500\n",
            "60/60 [==============================] - 1s 13ms/step - loss: 0.0055 - accuracy: 0.9989 - val_loss: 0.0126 - val_accuracy: 0.9968\n",
            "Epoch 133/500\n",
            "60/60 [==============================] - 1s 12ms/step - loss: 0.0054 - accuracy: 0.9984 - val_loss: 0.0148 - val_accuracy: 0.9968\n",
            "Epoch 134/500\n",
            "60/60 [==============================] - 1s 12ms/step - loss: 0.0095 - accuracy: 0.9963 - val_loss: 0.0125 - val_accuracy: 0.9968\n",
            "Epoch 135/500\n",
            "60/60 [==============================] - 1s 12ms/step - loss: 0.0056 - accuracy: 0.9979 - val_loss: 0.0131 - val_accuracy: 0.9968\n",
            "Epoch 136/500\n",
            "60/60 [==============================] - 1s 12ms/step - loss: 0.0063 - accuracy: 0.9984 - val_loss: 0.0150 - val_accuracy: 0.9968\n",
            "Epoch 137/500\n",
            "60/60 [==============================] - 1s 12ms/step - loss: 0.0059 - accuracy: 0.9963 - val_loss: 0.0142 - val_accuracy: 0.9968\n",
            "Epoch 138/500\n",
            "60/60 [==============================] - 1s 12ms/step - loss: 0.0064 - accuracy: 0.9979 - val_loss: 0.0162 - val_accuracy: 0.9968\n",
            "Epoch 139/500\n",
            "60/60 [==============================] - 1s 13ms/step - loss: 0.0052 - accuracy: 0.9984 - val_loss: 0.0132 - val_accuracy: 0.9968\n",
            "Epoch 140/500\n",
            "60/60 [==============================] - 1s 11ms/step - loss: 0.0039 - accuracy: 0.9989 - val_loss: 0.0136 - val_accuracy: 0.9968\n",
            "Epoch 141/500\n",
            "60/60 [==============================] - 1s 14ms/step - loss: 0.0041 - accuracy: 0.9984 - val_loss: 0.0314 - val_accuracy: 0.9952\n",
            "Epoch 142/500\n",
            "60/60 [==============================] - 1s 18ms/step - loss: 0.0158 - accuracy: 0.9937 - val_loss: 0.0153 - val_accuracy: 0.9968\n",
            "Epoch 143/500\n",
            "60/60 [==============================] - 1s 19ms/step - loss: 0.0072 - accuracy: 0.9968 - val_loss: 0.0139 - val_accuracy: 0.9968\n",
            "Epoch 144/500\n",
            "60/60 [==============================] - 1s 19ms/step - loss: 0.0057 - accuracy: 0.9984 - val_loss: 0.0097 - val_accuracy: 0.9984\n",
            "Epoch 145/500\n",
            "60/60 [==============================] - 1s 14ms/step - loss: 0.0058 - accuracy: 0.9974 - val_loss: 0.0228 - val_accuracy: 0.9937\n",
            "Epoch 146/500\n",
            "60/60 [==============================] - 1s 12ms/step - loss: 0.0064 - accuracy: 0.9984 - val_loss: 0.0129 - val_accuracy: 0.9968\n",
            "Epoch 147/500\n",
            "60/60 [==============================] - 1s 12ms/step - loss: 0.0049 - accuracy: 0.9979 - val_loss: 0.0126 - val_accuracy: 0.9968\n",
            "Epoch 148/500\n",
            "60/60 [==============================] - 1s 14ms/step - loss: 0.0038 - accuracy: 0.9984 - val_loss: 0.0126 - val_accuracy: 0.9984\n",
            "Epoch 149/500\n",
            "60/60 [==============================] - 1s 13ms/step - loss: 0.0034 - accuracy: 0.9995 - val_loss: 0.0119 - val_accuracy: 0.9984\n",
            "Epoch 150/500\n",
            "60/60 [==============================] - 1s 12ms/step - loss: 0.0037 - accuracy: 0.9989 - val_loss: 0.0134 - val_accuracy: 0.9968\n",
            "Epoch 151/500\n",
            "60/60 [==============================] - 1s 12ms/step - loss: 0.0218 - accuracy: 0.9894 - val_loss: 0.0380 - val_accuracy: 0.9905\n",
            "Epoch 152/500\n",
            "60/60 [==============================] - 1s 12ms/step - loss: 0.0791 - accuracy: 0.9783 - val_loss: 0.0354 - val_accuracy: 0.9842\n",
            "Epoch 153/500\n",
            "60/60 [==============================] - 1s 13ms/step - loss: 0.0161 - accuracy: 0.9931 - val_loss: 0.0384 - val_accuracy: 0.9905\n",
            "Epoch 154/500\n",
            "60/60 [==============================] - 1s 11ms/step - loss: 0.0271 - accuracy: 0.9931 - val_loss: 0.0276 - val_accuracy: 0.9905\n"
          ]
        }
      ]
    },
    {
      "cell_type": "code",
      "source": [
        "# Predictions\n",
        "prediction = model.predict(X_test)\n",
        "prediction_binary = prediction.round().astype(int)"
      ],
      "metadata": {
        "colab": {
          "base_uri": "https://localhost:8080/"
        },
        "id": "jHL9ln1Q5H0N",
        "outputId": "dcfe7e12-f5f0-4ee8-ad2f-9500a5fb6f9c"
      },
      "execution_count": 168,
      "outputs": [
        {
          "output_type": "stream",
          "name": "stdout",
          "text": [
            "20/20 [==============================] - 1s 4ms/step\n"
          ]
        }
      ]
    },
    {
      "cell_type": "code",
      "source": [
        "# Evaluation\n",
        "accu = accuracy_score(y_test, prediction_binary)\n",
        "precision = precision_score(y_test, prediction_binary)\n",
        "f1 = f1_score(y_test, prediction_binary)\n",
        "\n",
        "print(f\"Accuracy: {accu}\")\n",
        "print(f\"Precision: {precision}\")\n",
        "print(f\"F1 Score: {f1}\")"
      ],
      "metadata": {
        "colab": {
          "base_uri": "https://localhost:8080/"
        },
        "id": "s37sIofu5KRu",
        "outputId": "1ea8f475-d423-43f9-c77f-ca8e7dda7dd5"
      },
      "execution_count": 169,
      "outputs": [
        {
          "output_type": "stream",
          "name": "stdout",
          "text": [
            "Accuracy: 0.9825673534072901\n",
            "Precision: 0.8695652173913043\n",
            "F1 Score: 0.9160305343511451\n"
          ]
        }
      ]
    },
    {
      "cell_type": "code",
      "source": [
        "# Confusion Matrix\n",
        "cm = confusion_matrix(y_test, prediction_binary)\n",
        "plt.figure(figsize=(8, 6))\n",
        "sns.heatmap(cm, annot=True, fmt='d', cmap='Blues',\n",
        "            xticklabels=['0', '1'],\n",
        "            yticklabels=['0', '1'])\n",
        "plt.title('Confusion Matrix')\n",
        "plt.xlabel('Predicted Labels')\n",
        "plt.ylabel('True Labels')\n",
        "plt.show()"
      ],
      "metadata": {
        "id": "MpmbEyVa5Rph",
        "colab": {
          "base_uri": "https://localhost:8080/",
          "height": 564
        },
        "outputId": "a7148f78-9563-4898-b402-ecf04d7fae82"
      },
      "execution_count": 170,
      "outputs": [
        {
          "output_type": "display_data",
          "data": {
            "text/plain": [
              "<Figure size 800x600 with 2 Axes>"
            ],
            "image/png": "[encoded data removed]"
          },
          "metadata": {}
        }
      ]
    },
    {
      "cell_type": "code",
      "source": [],
      "metadata": {
        "id": "aRBQQrrW5e91"
      },
      "execution_count": 170,
      "outputs": []
    }
  ]
}