{
  "nbformat": 4,
  "nbformat_minor": 0,
  "metadata": {
    "colab": {
      "provenance": []
    },
    "kernelspec": {
      "name": "python3",
      "display_name": "Python 3"
    },
    "language_info": {
      "name": "python"
    }
  },
  "cells": [
    {
      "cell_type": "code",
      "execution_count": 20,
      "metadata": {
        "id": "8P_H6rPFWc52"
      },
      "outputs": [],
      "source": []
    },
    {
      "cell_type": "code",
      "execution_count": 21,
      "metadata": {
        "id": "zZrB8ERt4A8s"
      },
      "outputs": [],
      "source": [
        "import io\n",
        "import numpy as np\n",
        "import pandas as pd\n",
        "import tensorflow as tf\n",
        "from sklearn.preprocessing import LabelEncoder, MinMaxScaler\n",
        "from sklearn.model_selection import train_test_split\n",
        "from sklearn.utils import class_weight\n",
        "from sklearn.metrics import accuracy_score, precision_score, f1_score, confusion_matrix\n",
        "import matplotlib.pyplot as plt\n",
        "import seaborn as sns"
      ]
    },
    {
      "cell_type": "code",
      "source": [],
      "metadata": {
        "id": "0ig4q3GzadFg"
      },
      "execution_count": 21,
      "outputs": []
    },
    {
      "cell_type": "code",
      "source": [
        "capture_file = pd.read_csv(\"/content/arpcode (13).csv\")\n",
        "X = capture_file[['Time', 'Source', 'Destination', 'Protocol']]\n",
        "Y = capture_file['Info']"
      ],
      "metadata": {
        "id": "9tuH-ewT4UV6"
      },
      "execution_count": 22,
      "outputs": []
    },
    {
      "cell_type": "code",
      "source": [
        "X.shape"
      ],
      "metadata": {
        "colab": {
          "base_uri": "https://localhost:8080/"
        },
        "id": "rc_maIuoad5z",
        "outputId": "321ce5e5-6f33-4dba-cc27-3bb4e1ba24ee"
      },
      "execution_count": 23,
      "outputs": [
        {
          "output_type": "execute_result",
          "data": {
            "text/plain": [
              "(3160, 4)"
            ]
          },
          "metadata": {},
          "execution_count": 23
        }
      ]
    },
    {
      "cell_type": "code",
      "source": [
        "X_Time_en = MinMaxScaler()\n",
        "X_Source_en = LabelEncoder()\n",
        "X_Destination_en = LabelEncoder()\n",
        "X_Protocol_en = LabelEncoder()\n",
        "\n",
        "X['dt_Time'] = X_Time_en.fit_transform(X[['Time']])\n",
        "X['dt_Source'] = X_Source_en.fit_transform(X['Source'])\n",
        "X['dt_Destination'] = X_Destination_en.fit_transform(X['Destination'])\n",
        "X['dt_Protocol'] = X_Protocol_en.fit_transform(X['Protocol'])"
      ],
      "metadata": {
        "id": "EZwPXKLB4Yt9",
        "colab": {
          "base_uri": "https://localhost:8080/"
        },
        "outputId": "2bcf2b20-c8de-41c5-8fa9-4ec0683eda33"
      },
      "execution_count": 24,
      "outputs": [
        {
          "output_type": "stream",
          "name": "stderr",
          "text": [
            "<ipython-input-24-2e711e491a2d>:6: SettingWithCopyWarning: \n",
            "A value is trying to be set on a copy of a slice from a DataFrame.\n",
            "Try using .loc[row_indexer,col_indexer] = value instead\n",
            "\n",
            "See the caveats in the documentation: https://pandas.pydata.org/pandas-docs/stable/user_guide/indexing.html#returning-a-view-versus-a-copy\n",
            "  X['dt_Time'] = X_Time_en.fit_transform(X[['Time']])\n"
          ]
        }
      ]
    },
    {
      "cell_type": "code",
      "source": [
        "X_input = X.drop(['Source', 'Destination', 'Protocol', 'Time'], axis=1)\n"
      ],
      "metadata": {
        "id": "PsyFeUr54mnH"
      },
      "execution_count": 25,
      "outputs": []
    },
    {
      "cell_type": "code",
      "source": [
        "\n",
        "# mean = X_input.mean(axis=0)\n",
        "# std = X_input.std(axis=0)\n",
        "# X_input = (X_input - mean) / std"
      ],
      "metadata": {
        "id": "TusqLpj74wu_"
      },
      "execution_count": 26,
      "outputs": []
    },
    {
      "cell_type": "code",
      "source": [
        "X_input = X_input.values"
      ],
      "metadata": {
        "id": "LQp5X4fl41_E"
      },
      "execution_count": 27,
      "outputs": []
    },
    {
      "cell_type": "code",
      "source": [
        "def create_sequences(X, y, window_size):\n",
        "    X_seq, y_seq = [], []\n",
        "    for i in range(len(X) - window_size):\n",
        "        X_seq.append(X[i:i + window_size])\n",
        "        y_seq.append(y[i + window_size - 1])  # Label for the last packet in the window\n",
        "    return np.array(X_seq), np.array(y_seq)"
      ],
      "metadata": {
        "id": "wfBEwpOA44KW"
      },
      "execution_count": 28,
      "outputs": []
    },
    {
      "cell_type": "code",
      "source": [
        "window_size = 5\n",
        "X_sequences, y_sequences = create_sequences(X_input, Y.values, window_size)"
      ],
      "metadata": {
        "id": "SapPUKWC46MW"
      },
      "execution_count": 29,
      "outputs": []
    },
    {
      "cell_type": "code",
      "source": [
        "X_train, X_test, y_train, y_test = train_test_split(X_sequences, y_sequences, test_size=0.2, random_state=42)\n",
        "X_train, X_val, y_train, y_val = train_test_split(X_train, y_train, test_size = 0.25, random_state = 42)"
      ],
      "metadata": {
        "id": "fCBD86t348iT"
      },
      "execution_count": 30,
      "outputs": []
    },
    {
      "cell_type": "code",
      "source": [
        "X_train.shape, X_test.shape, X_val.shape, y_train.shape, y_test.shape, y_val.shape"
      ],
      "metadata": {
        "colab": {
          "base_uri": "https://localhost:8080/"
        },
        "id": "6DCdQrnpyLYl",
        "outputId": "55dfcf2b-ac4a-4aa7-af73-a03dad139825"
      },
      "execution_count": 31,
      "outputs": [
        {
          "output_type": "execute_result",
          "data": {
            "text/plain": [
              "((1893, 5, 4), (631, 5, 4), (631, 5, 4), (1893,), (631,), (631,))"
            ]
          },
          "metadata": {},
          "execution_count": 31
        }
      ]
    },
    {
      "cell_type": "code",
      "source": [
        "class_weights = class_weight.compute_class_weight('balanced', classes=np.unique(y_train), y=y_train)\n",
        "class_weight_dict = dict(enumerate(class_weights))"
      ],
      "metadata": {
        "id": "v7ppAoOH4-Zz"
      },
      "execution_count": 32,
      "outputs": []
    },
    {
      "cell_type": "code",
      "source": [
        "X_train.shape[1]"
      ],
      "metadata": {
        "colab": {
          "base_uri": "https://localhost:8080/"
        },
        "id": "mlSWMMJDcf6B",
        "outputId": "cac7f72b-b9a9-4fa8-f7e4-b2d098169408"
      },
      "execution_count": 33,
      "outputs": [
        {
          "output_type": "execute_result",
          "data": {
            "text/plain": [
              "5"
            ]
          },
          "metadata": {},
          "execution_count": 33
        }
      ]
    },
    {
      "cell_type": "code",
      "source": [
        "model = tf.keras.Sequential([\n",
        "    tf.keras.layers.LSTM(100, return_sequences=True, input_shape=(X_train.shape[1], X_train.shape[2])),\n",
        "    tf.keras.layers.LSTM(50),\n",
        "    tf.keras.layers.Dropout(0.2),\n",
        "    tf.keras.layers.Dense(1, activation='sigmoid')\n",
        "])"
      ],
      "metadata": {
        "id": "Ek6-8E_n6UX0"
      },
      "execution_count": 34,
      "outputs": []
    },
    {
      "cell_type": "code",
      "source": [
        "print(X_train.shape[1])\n",
        "print(X_train.shape[2])"
      ],
      "metadata": {
        "id": "4k7J8PzKAYjj",
        "outputId": "30324692-f3d9-4454-ba75-7e9a811e89cc",
        "colab": {
          "base_uri": "https://localhost:8080/"
        }
      },
      "execution_count": 35,
      "outputs": [
        {
          "output_type": "stream",
          "name": "stdout",
          "text": [
            "5\n",
            "4\n"
          ]
        }
      ]
    },
    {
      "cell_type": "code",
      "source": [
        "model.compile(optimizer='adam', loss='binary_crossentropy', metrics=['accuracy'])\n"
      ],
      "metadata": {
        "id": "9sHyPLrs5BH4"
      },
      "execution_count": 36,
      "outputs": []
    },
    {
      "cell_type": "code",
      "source": [
        "# Train the model\n",
        "history = model.fit(X_train, y_train,\n",
        "                    epochs=500,\n",
        "                    batch_size=32,\n",
        "                    validation_data=(X_val, y_val),\n",
        "                    callbacks=[tf.keras.callbacks.EarlyStopping(monitor='val_loss', patience=10)],\n",
        "                    class_weight=class_weight_dict,\n",
        "                    shuffle = False)"
      ],
      "metadata": {
        "id": "bpcuYjT05Enc",
        "colab": {
          "base_uri": "https://localhost:8080/"
        },
        "outputId": "a3839589-8022-4b95-f96f-2284ce95598f"
      },
      "execution_count": 37,
      "outputs": [
        {
          "output_type": "stream",
          "name": "stdout",
          "text": [
            "Epoch 1/500\n",
            "60/60 [==============================] - 6s 34ms/step - loss: 0.6659 - accuracy: 0.5610 - val_loss: 0.7145 - val_accuracy: 0.3835\n",
            "Epoch 2/500\n",
            "60/60 [==============================] - 1s 16ms/step - loss: 0.4860 - accuracy: 0.7934 - val_loss: 0.2873 - val_accuracy: 0.8605\n",
            "Epoch 3/500\n",
            "60/60 [==============================] - 1s 18ms/step - loss: 0.3248 - accuracy: 0.8674 - val_loss: 0.2543 - val_accuracy: 0.8637\n",
            "Epoch 4/500\n",
            "60/60 [==============================] - 1s 18ms/step - loss: 0.3042 - accuracy: 0.8663 - val_loss: 0.2550 - val_accuracy: 0.8558\n",
            "Epoch 5/500\n",
            "60/60 [==============================] - 1s 14ms/step - loss: 0.3041 - accuracy: 0.8648 - val_loss: 0.2910 - val_accuracy: 0.8542\n",
            "Epoch 6/500\n",
            "60/60 [==============================] - 1s 12ms/step - loss: 0.2997 - accuracy: 0.8627 - val_loss: 0.3113 - val_accuracy: 0.8526\n",
            "Epoch 7/500\n",
            "60/60 [==============================] - 1s 13ms/step - loss: 0.2981 - accuracy: 0.8616 - val_loss: 0.3245 - val_accuracy: 0.8526\n",
            "Epoch 8/500\n",
            "60/60 [==============================] - 1s 12ms/step - loss: 0.2870 - accuracy: 0.8605 - val_loss: 0.2953 - val_accuracy: 0.8542\n",
            "Epoch 9/500\n",
            "60/60 [==============================] - 1s 16ms/step - loss: 0.2777 - accuracy: 0.8616 - val_loss: 0.3043 - val_accuracy: 0.8542\n",
            "Epoch 10/500\n",
            "60/60 [==============================] - 1s 16ms/step - loss: 0.2702 - accuracy: 0.8637 - val_loss: 0.2952 - val_accuracy: 0.8542\n",
            "Epoch 11/500\n",
            "60/60 [==============================] - 1s 13ms/step - loss: 0.2651 - accuracy: 0.8679 - val_loss: 0.2658 - val_accuracy: 0.8605\n",
            "Epoch 12/500\n",
            "60/60 [==============================] - 1s 12ms/step - loss: 0.2553 - accuracy: 0.8669 - val_loss: 0.2439 - val_accuracy: 0.8716\n",
            "Epoch 13/500\n",
            "60/60 [==============================] - 1s 12ms/step - loss: 0.2505 - accuracy: 0.8753 - val_loss: 0.2413 - val_accuracy: 0.9033\n",
            "Epoch 14/500\n",
            "60/60 [==============================] - 1s 13ms/step - loss: 0.2335 - accuracy: 0.8801 - val_loss: 0.2420 - val_accuracy: 0.8986\n",
            "Epoch 15/500\n",
            "60/60 [==============================] - 1s 11ms/step - loss: 0.2309 - accuracy: 0.8917 - val_loss: 0.2186 - val_accuracy: 0.9223\n",
            "Epoch 16/500\n",
            "60/60 [==============================] - 1s 12ms/step - loss: 0.2244 - accuracy: 0.8954 - val_loss: 0.2157 - val_accuracy: 0.9223\n",
            "Epoch 17/500\n",
            "60/60 [==============================] - 1s 12ms/step - loss: 0.2041 - accuracy: 0.9023 - val_loss: 0.1916 - val_accuracy: 0.9255\n",
            "Epoch 18/500\n",
            "60/60 [==============================] - 1s 15ms/step - loss: 0.2014 - accuracy: 0.9081 - val_loss: 0.2009 - val_accuracy: 0.9160\n",
            "Epoch 19/500\n",
            "60/60 [==============================] - 1s 18ms/step - loss: 0.1895 - accuracy: 0.9113 - val_loss: 0.2286 - val_accuracy: 0.9049\n",
            "Epoch 20/500\n",
            "60/60 [==============================] - 1s 19ms/step - loss: 0.1946 - accuracy: 0.9086 - val_loss: 0.2406 - val_accuracy: 0.9049\n",
            "Epoch 21/500\n",
            "60/60 [==============================] - 1s 15ms/step - loss: 0.1995 - accuracy: 0.9012 - val_loss: 0.2041 - val_accuracy: 0.9049\n",
            "Epoch 22/500\n",
            "60/60 [==============================] - 1s 12ms/step - loss: 0.1817 - accuracy: 0.9081 - val_loss: 0.1807 - val_accuracy: 0.9255\n",
            "Epoch 23/500\n",
            "60/60 [==============================] - 1s 12ms/step - loss: 0.1688 - accuracy: 0.9197 - val_loss: 0.2140 - val_accuracy: 0.9049\n",
            "Epoch 24/500\n",
            "60/60 [==============================] - 1s 13ms/step - loss: 0.1636 - accuracy: 0.9213 - val_loss: 0.1836 - val_accuracy: 0.9113\n",
            "Epoch 25/500\n",
            "60/60 [==============================] - 1s 12ms/step - loss: 0.1569 - accuracy: 0.9234 - val_loss: 0.2164 - val_accuracy: 0.9065\n",
            "Epoch 26/500\n",
            "60/60 [==============================] - 1s 12ms/step - loss: 0.1533 - accuracy: 0.9239 - val_loss: 0.2349 - val_accuracy: 0.9065\n",
            "Epoch 27/500\n",
            "60/60 [==============================] - 1s 12ms/step - loss: 0.1428 - accuracy: 0.9239 - val_loss: 0.1262 - val_accuracy: 0.9350\n",
            "Epoch 28/500\n",
            "60/60 [==============================] - 1s 13ms/step - loss: 0.1508 - accuracy: 0.9287 - val_loss: 0.2251 - val_accuracy: 0.8970\n",
            "Epoch 29/500\n",
            "60/60 [==============================] - 1s 12ms/step - loss: 0.1439 - accuracy: 0.9208 - val_loss: 0.1247 - val_accuracy: 0.9366\n",
            "Epoch 30/500\n",
            "60/60 [==============================] - 1s 12ms/step - loss: 0.1213 - accuracy: 0.9377 - val_loss: 0.1266 - val_accuracy: 0.9382\n",
            "Epoch 31/500\n",
            "60/60 [==============================] - 1s 13ms/step - loss: 0.1249 - accuracy: 0.9350 - val_loss: 0.1218 - val_accuracy: 0.9366\n",
            "Epoch 32/500\n",
            "60/60 [==============================] - 1s 12ms/step - loss: 0.0978 - accuracy: 0.9514 - val_loss: 0.1057 - val_accuracy: 0.9398\n",
            "Epoch 33/500\n",
            "60/60 [==============================] - 1s 12ms/step - loss: 0.0892 - accuracy: 0.9567 - val_loss: 0.0908 - val_accuracy: 0.9715\n",
            "Epoch 34/500\n",
            "60/60 [==============================] - 1s 12ms/step - loss: 0.0775 - accuracy: 0.9667 - val_loss: 0.0633 - val_accuracy: 0.9857\n",
            "Epoch 35/500\n",
            "60/60 [==============================] - 1s 18ms/step - loss: 0.0707 - accuracy: 0.9731 - val_loss: 0.0602 - val_accuracy: 0.9873\n",
            "Epoch 36/500\n",
            "60/60 [==============================] - 1s 18ms/step - loss: 0.0681 - accuracy: 0.9789 - val_loss: 0.0595 - val_accuracy: 0.9889\n",
            "Epoch 37/500\n",
            "60/60 [==============================] - 1s 19ms/step - loss: 0.0644 - accuracy: 0.9815 - val_loss: 0.0642 - val_accuracy: 0.9889\n",
            "Epoch 38/500\n",
            "60/60 [==============================] - 1s 14ms/step - loss: 0.0603 - accuracy: 0.9783 - val_loss: 0.0631 - val_accuracy: 0.9889\n",
            "Epoch 39/500\n",
            "60/60 [==============================] - 1s 11ms/step - loss: 0.0601 - accuracy: 0.9842 - val_loss: 0.0477 - val_accuracy: 0.9905\n",
            "Epoch 40/500\n",
            "60/60 [==============================] - 1s 13ms/step - loss: 0.0580 - accuracy: 0.9815 - val_loss: 0.0574 - val_accuracy: 0.9905\n",
            "Epoch 41/500\n",
            "60/60 [==============================] - 1s 11ms/step - loss: 0.0485 - accuracy: 0.9868 - val_loss: 0.0589 - val_accuracy: 0.9905\n",
            "Epoch 42/500\n",
            "60/60 [==============================] - 1s 11ms/step - loss: 0.0568 - accuracy: 0.9783 - val_loss: 0.0482 - val_accuracy: 0.9905\n",
            "Epoch 43/500\n",
            "60/60 [==============================] - 1s 12ms/step - loss: 0.0414 - accuracy: 0.9857 - val_loss: 0.0429 - val_accuracy: 0.9921\n",
            "Epoch 44/500\n",
            "60/60 [==============================] - 1s 13ms/step - loss: 0.0353 - accuracy: 0.9915 - val_loss: 0.0649 - val_accuracy: 0.9842\n",
            "Epoch 45/500\n",
            "60/60 [==============================] - 1s 12ms/step - loss: 0.0362 - accuracy: 0.9878 - val_loss: 0.0439 - val_accuracy: 0.9921\n",
            "Epoch 46/500\n",
            "60/60 [==============================] - 1s 13ms/step - loss: 0.0297 - accuracy: 0.9915 - val_loss: 0.0431 - val_accuracy: 0.9905\n",
            "Epoch 47/500\n",
            "60/60 [==============================] - 1s 14ms/step - loss: 0.0277 - accuracy: 0.9931 - val_loss: 0.0442 - val_accuracy: 0.9905\n",
            "Epoch 48/500\n",
            "60/60 [==============================] - 1s 13ms/step - loss: 0.0514 - accuracy: 0.9799 - val_loss: 0.0697 - val_accuracy: 0.9778\n",
            "Epoch 49/500\n",
            "60/60 [==============================] - 1s 12ms/step - loss: 0.0822 - accuracy: 0.9746 - val_loss: 0.0533 - val_accuracy: 0.9937\n",
            "Epoch 50/500\n",
            "60/60 [==============================] - 1s 11ms/step - loss: 0.0406 - accuracy: 0.9884 - val_loss: 0.0384 - val_accuracy: 0.9905\n",
            "Epoch 51/500\n",
            "60/60 [==============================] - 1s 14ms/step - loss: 0.0278 - accuracy: 0.9915 - val_loss: 0.0381 - val_accuracy: 0.9921\n",
            "Epoch 52/500\n",
            "60/60 [==============================] - 1s 18ms/step - loss: 0.0295 - accuracy: 0.9910 - val_loss: 0.0342 - val_accuracy: 0.9937\n",
            "Epoch 53/500\n",
            "60/60 [==============================] - 1s 18ms/step - loss: 0.0200 - accuracy: 0.9926 - val_loss: 0.0324 - val_accuracy: 0.9937\n",
            "Epoch 54/500\n",
            "60/60 [==============================] - 1s 19ms/step - loss: 0.0225 - accuracy: 0.9921 - val_loss: 0.0333 - val_accuracy: 0.9952\n",
            "Epoch 55/500\n",
            "60/60 [==============================] - 1s 14ms/step - loss: 0.0197 - accuracy: 0.9931 - val_loss: 0.0335 - val_accuracy: 0.9921\n",
            "Epoch 56/500\n",
            "60/60 [==============================] - 1s 12ms/step - loss: 0.0206 - accuracy: 0.9926 - val_loss: 0.0425 - val_accuracy: 0.9889\n",
            "Epoch 57/500\n",
            "60/60 [==============================] - 1s 12ms/step - loss: 0.0213 - accuracy: 0.9931 - val_loss: 0.0333 - val_accuracy: 0.9952\n",
            "Epoch 58/500\n",
            "60/60 [==============================] - 1s 14ms/step - loss: 0.0185 - accuracy: 0.9926 - val_loss: 0.0336 - val_accuracy: 0.9937\n",
            "Epoch 59/500\n",
            "60/60 [==============================] - 1s 11ms/step - loss: 0.0175 - accuracy: 0.9947 - val_loss: 0.0316 - val_accuracy: 0.9937\n",
            "Epoch 60/500\n",
            "60/60 [==============================] - 1s 12ms/step - loss: 0.0219 - accuracy: 0.9926 - val_loss: 0.0316 - val_accuracy: 0.9952\n",
            "Epoch 61/500\n",
            "60/60 [==============================] - 1s 12ms/step - loss: 0.0169 - accuracy: 0.9942 - val_loss: 0.0318 - val_accuracy: 0.9952\n",
            "Epoch 62/500\n",
            "60/60 [==============================] - 1s 12ms/step - loss: 0.0133 - accuracy: 0.9931 - val_loss: 0.0330 - val_accuracy: 0.9952\n",
            "Epoch 63/500\n",
            "60/60 [==============================] - 1s 13ms/step - loss: 0.0152 - accuracy: 0.9947 - val_loss: 0.0330 - val_accuracy: 0.9952\n",
            "Epoch 64/500\n",
            "60/60 [==============================] - 1s 13ms/step - loss: 0.0146 - accuracy: 0.9947 - val_loss: 0.0312 - val_accuracy: 0.9952\n",
            "Epoch 65/500\n",
            "60/60 [==============================] - 1s 12ms/step - loss: 0.0157 - accuracy: 0.9947 - val_loss: 0.0344 - val_accuracy: 0.9952\n",
            "Epoch 66/500\n",
            "60/60 [==============================] - 1s 12ms/step - loss: 0.0151 - accuracy: 0.9942 - val_loss: 0.0338 - val_accuracy: 0.9937\n",
            "Epoch 67/500\n",
            "60/60 [==============================] - 1s 11ms/step - loss: 0.0148 - accuracy: 0.9942 - val_loss: 0.0342 - val_accuracy: 0.9952\n",
            "Epoch 68/500\n",
            "60/60 [==============================] - 1s 13ms/step - loss: 0.0208 - accuracy: 0.9952 - val_loss: 0.0531 - val_accuracy: 0.9873\n",
            "Epoch 69/500\n",
            "60/60 [==============================] - 1s 19ms/step - loss: 0.0704 - accuracy: 0.9752 - val_loss: 0.2357 - val_accuracy: 0.9319\n",
            "Epoch 70/500\n",
            "60/60 [==============================] - 1s 18ms/step - loss: 0.1005 - accuracy: 0.9604 - val_loss: 0.1030 - val_accuracy: 0.9556\n",
            "Epoch 71/500\n",
            "60/60 [==============================] - 1s 18ms/step - loss: 0.0273 - accuracy: 0.9878 - val_loss: 0.0452 - val_accuracy: 0.9905\n",
            "Epoch 72/500\n",
            "60/60 [==============================] - 1s 14ms/step - loss: 0.0142 - accuracy: 0.9937 - val_loss: 0.0379 - val_accuracy: 0.9937\n",
            "Epoch 73/500\n",
            "60/60 [==============================] - 1s 12ms/step - loss: 0.0164 - accuracy: 0.9937 - val_loss: 0.0394 - val_accuracy: 0.9921\n",
            "Epoch 74/500\n",
            "60/60 [==============================] - 1s 12ms/step - loss: 0.0134 - accuracy: 0.9942 - val_loss: 0.0387 - val_accuracy: 0.9937\n"
          ]
        }
      ]
    },
    {
      "cell_type": "code",
      "source": [
        "# Predictions\n",
        "prediction = model.predict(X_test)\n",
        "prediction_binary = prediction.round().astype(int)"
      ],
      "metadata": {
        "colab": {
          "base_uri": "https://localhost:8080/"
        },
        "id": "jHL9ln1Q5H0N",
        "outputId": "70c5c7f7-727b-40cb-8177-0ae9cfa90d53"
      },
      "execution_count": 38,
      "outputs": [
        {
          "output_type": "stream",
          "name": "stdout",
          "text": [
            "20/20 [==============================] - 2s 6ms/step\n"
          ]
        }
      ]
    },
    {
      "cell_type": "code",
      "source": [
        "# Evaluation\n",
        "accu = accuracy_score(y_test, prediction_binary)\n",
        "accu = accu*100;\n",
        "precision = precision_score(y_test, prediction_binary)\n",
        "f1 = f1_score(y_test, prediction_binary)\n",
        "\n",
        "print(f\"Accuracy: {accu}\")\n",
        "print(f\"Precision: {precision}\")\n",
        "print(f\"F1 Score: {f1}\")"
      ],
      "metadata": {
        "colab": {
          "base_uri": "https://localhost:8080/"
        },
        "id": "s37sIofu5KRu",
        "outputId": "e6296365-a3ed-4f24-ed0a-e06493b704fd"
      },
      "execution_count": 39,
      "outputs": [
        {
          "output_type": "stream",
          "name": "stdout",
          "text": [
            "Accuracy: 98.8906497622821\n",
            "Precision: 0.9104477611940298\n",
            "F1 Score: 0.9457364341085271\n"
          ]
        }
      ]
    },
    {
      "cell_type": "code",
      "source": [
        "# Confusion Matrix\n",
        "cm = confusion_matrix(y_test, prediction_binary)\n",
        "plt.figure(figsize=(8, 6))\n",
        "sns.heatmap(cm, annot=True, fmt='d', cmap='Blues',\n",
        "            xticklabels=['0', '1'],\n",
        "            yticklabels=['0', '1'])\n",
        "plt.title('Confusion Matrix')\n",
        "plt.xlabel('Predicted Labels')\n",
        "plt.ylabel('True Labels')\n",
        "plt.show()"
      ],
      "metadata": {
        "id": "MpmbEyVa5Rph",
        "colab": {
          "base_uri": "https://localhost:8080/",
          "height": 564
        },
        "outputId": "ee9859b4-7d61-41eb-f366-2b88db805ce7"
      },
      "execution_count": 40,
      "outputs": [
        {
          "output_type": "display_data",
          "data": {
            "text/plain": [
              "<Figure size 800x600 with 2 Axes>"
            ],
            "image/png": "[encoded data removed]"
          },
          "metadata": {}
        }
      ]
    },
    {
      "cell_type": "code",
      "source": [],
      "metadata": {
        "id": "aRBQQrrW5e91"
      },
      "execution_count": 40,
      "outputs": []
    }
  ]
}